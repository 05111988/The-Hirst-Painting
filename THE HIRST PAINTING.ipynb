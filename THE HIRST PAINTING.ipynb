{
 "cells": [
  {
   "cell_type": "code",
   "execution_count": null,
   "id": "403d04a3-e70c-4511-bdd2-a4c5f1a72543",
   "metadata": {},
   "outputs": [],
   "source": [
    "import turtle as turtle_module\n",
    "import random\n",
    "\n",
    "turtle_module.colormode(255)\n",
    "tim = turtle_module.Turtle()\n",
    "tim.speed(\"fastest\")\n",
    "tim.hideturtle()\n",
    "tim.penup()\n",
    "color_list = [(245, 241, 233), (227, 234, 242), (245, 234, 239), (233, 242, 236), (208, 158, 96), (234, 213, 101), (41, 104, 144), (149, 78, 57), (130, 168, 194), (202, 137, 162), (148, 65, 83), (24, 40, 55), (204, 90, 68), (169, 159, 55), (139, 180, 152), (193, 89, 121), (59, 117, 93), (26, 44, 36), (223, 171, 187), (63, 46, 34), (91, 154, 104), (44, 161, 182), (237, 212, 7), (226, 175, 167), (13, 96, 75), (41, 59, 99), (179, 189, 213), (99, 125, 168), (65, 33, 43), (104, 43, 59)]\n",
    "\n",
    "tim.setheading(225)\n",
    "tim.forward(250)\n",
    "tim.setheading(0)\n",
    "number_of_dots = 100\n",
    "\n",
    "\n",
    "for dot_count in range(1, number_of_dots + 1):\n",
    "    tim.dot(20, random.choice(color_list))\n",
    "    tim.forward(50)\n",
    "\n",
    "    if dot_count % 10 == 0:\n",
    "        tim.setheading(90)\n",
    "        tim.forward(50)\n",
    "        tim.setheading(180)\n",
    "        tim.forward(500)\n",
    "        tim.setheading(0)\n",
    "\n",
    "\n",
    "\n",
    "\n",
    "\n",
    "\n",
    "\n",
    "\n",
    "\n",
    "\n",
    "screen = turtle_module.Screen()\n",
    "screen.exitonclick()"
   ]
  },
  {
   "cell_type": "code",
   "execution_count": null,
   "id": "fa767caf-1f1a-4e5f-8ada-3b714e17e59c",
   "metadata": {},
   "outputs": [],
   "source": []
  },
  {
   "cell_type": "code",
   "execution_count": null,
   "id": "519b49ca-fce2-4f91-8607-de8b5309d09e",
   "metadata": {},
   "outputs": [],
   "source": []
  }
 ],
 "metadata": {
  "kernelspec": {
   "display_name": "Python 3 (ipykernel)",
   "language": "python",
   "name": "python3"
  },
  "language_info": {
   "codemirror_mode": {
    "name": "ipython",
    "version": 3
   },
   "file_extension": ".py",
   "mimetype": "text/x-python",
   "name": "python",
   "nbconvert_exporter": "python",
   "pygments_lexer": "ipython3",
   "version": "3.13.3"
  }
 },
 "nbformat": 4,
 "nbformat_minor": 5
}
